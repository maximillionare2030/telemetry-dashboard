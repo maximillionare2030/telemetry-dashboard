{
 "cells": [
  {
   "cell_type": "markdown",
   "metadata": {},
   "source": [
    "### Test file to extract data statically"
   ]
  },
  {
   "cell_type": "code",
   "execution_count": 5,
   "metadata": {},
   "outputs": [],
   "source": [
    "import csv\n",
    "import pandas as pd\n",
    "from datetime import datetime"
   ]
  },
  {
   "cell_type": "code",
   "execution_count": 6,
   "metadata": {},
   "outputs": [],
   "source": [
    "def parse_timestamp(timestamp_str, return_type):\n",
    "    \"\"\" \n",
    "    Seperate the timestamp into date and time\n",
    "    \"\"\"\n",
    "    # format timestamp to remove the 'Z'\n",
    "    timestamp_str = timestamp_str.replace('000Z', '')\n",
    "    dt = datetime.strptime(timestamp_str, '%Y-%m-%dT%H:%M:%S.%f')\n",
    "\n",
    "    # select return type based on return type\n",
    "    if return_type == 'date':\n",
    "        return dt.strftime('%Y-%m-%d')\n",
    "    elif return_type == 'time':\n",
    "        return dt.strftime('%H:%M:%S')\n",
    "    else: \n",
    "        raise ValueError(f\"Invalid return type: {return_type}\")\n"
   ]
  },
  {
   "cell_type": "code",
   "execution_count": 7,
   "metadata": {},
   "outputs": [],
   "source": [
    "def extract_csv(file_path):\n",
    "    # read csv file\n",
    "    df = pd.read_csv(file_path)\n",
    "\n",
    "    # format date and time\n",
    "    df['date'] = df['timestamp'].apply(lambda x: parse_timestamp(x, 'date'))\n",
    "    df['time'] = df['timestamp'].apply(lambda x: parse_timestamp(x, 'time'))\n",
    "    df.drop(columns=['timestamp'], inplace=True)\n",
    "\n",
    "    # reorder columns\n",
    "    columns = ['date', 'time'] + [col for col in df.columns \n",
    "                                if col not in ['date', 'time', 'timestamp']]\n",
    "    df = df[columns]\n",
    "\n",
    "    return df\n",
    "\n"
   ]
  },
  {
   "cell_type": "code",
   "execution_count": 8,
   "metadata": {},
   "outputs": [
    {
     "name": "stdout",
     "output_type": "stream",
     "text": [
      "         date      time  motorSPD  motorTEMP  packVOLT  packTEMP  packCURR  \\\n",
      "0  2024-10-26  15:07:23      4154       9683       841      7266      6136   \n",
      "1  2024-10-26  22:55:32      7855       2326      4180      7281      4081   \n",
      "2  2024-10-27  08:12:38      2458       8455      9061      8710       458   \n",
      "3  2024-10-27  04:58:57      1825       5715      4885      4655      1150   \n",
      "4  2024-10-27  01:28:59       109       9320      9971      5240      6245   \n",
      "\n",
      "   packCCL  \n",
      "0     3651  \n",
      "1     4578  \n",
      "2     4202  \n",
      "3     1541  \n",
      "4     1726  \n"
     ]
    }
   ],
   "source": [
    "# run extract_csv('data/test.csv')\n",
    "file_path = '../data/Kilozott_Dummy_Data.csv'\n",
    "df = extract_csv(file_path)\n",
    "print(df.head())"
   ]
  }
 ],
 "metadata": {
  "kernelspec": {
   "display_name": ".venv",
   "language": "python",
   "name": "python3"
  },
  "language_info": {
   "codemirror_mode": {
    "name": "ipython",
    "version": 3
   },
   "file_extension": ".py",
   "mimetype": "text/x-python",
   "name": "python",
   "nbconvert_exporter": "python",
   "pygments_lexer": "ipython3",
   "version": "3.11.6"
  }
 },
 "nbformat": 4,
 "nbformat_minor": 2
}
