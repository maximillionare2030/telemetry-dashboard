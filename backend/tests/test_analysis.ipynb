{
 "cells": [
  {
   "cell_type": "code",
   "execution_count": 1,
   "metadata": {},
   "outputs": [],
   "source": [
    "import os\n",
    "import sys\n",
    "from datetime import datetime\n",
    "\n",
    "# Add the parent directory to Python path\n",
    "current_dir = os.path.dirname(os.path.abspath(''))\n",
    "parent_dir = os.path.dirname(current_dir)\n",
    "sys.path.append(parent_dir)\n",
    "\n",
    "from backend.utils.analysis import Analysis\n",
    "import pandas as pd"
   ]
  },
  {
   "cell_type": "code",
   "execution_count": 2,
   "metadata": {},
   "outputs": [
    {
     "name": "stderr",
     "output_type": "stream",
     "text": [
      "/Users/jaslavie/telemetry-dashboard/backend/utils/analysis.py:127: LangChainDeprecationWarning: The method `Chain.run` was deprecated in langchain 0.1.0 and will be removed in 1.0. Use :meth:`~invoke` instead.\n",
      "  result = qa_chain.run(prompt)\n"
     ]
    },
    {
     "name": "stdout",
     "output_type": "stream",
     "text": [
      "\n",
      "Telemetry Analysis Results:\n",
      "==================================================\n",
      "\n",
      "Based on the provided telemetry data, there are a few values that are outside of the safe operating ranges and require immediate attention. \n",
      "\n",
      "1. Outside of safe operating ranges:\n",
      "- motorSPD: The maximum value of 9986 is significantly higher than the safe operating range of 80 kW (80000 W). This could indicate a potential violation of EV.3.3.1, which states that the maximum power measured by the Energy Meter must not exceed 80 kW. This should be investigated further to ensure compliance with the rules.\n",
      "- motorTEMP: The maximum value of 9981 is significantly higher than the safe operating range of 60°C. This could indicate a potential violation of EV.7.5.2, which states that temperatures must stay below the lower of the maximum cell temperature limit stated in the cell data sheet or 60°C. This should be investigated further to ensure compliance with the rules.\n",
      "- packVOLT: The minimum value of 7 is significantly lower than the safe operating range of 600 V DC. This could indicate a potential violation of EV.3.3.2, which states that the maximum permitted voltage that may occur between any two points must not exceed 600 V DC. This should be investigated further to ensure compliance\n",
      "==================================================\n"
     ]
    }
   ],
   "source": [
    "def test_analysis():\n",
    "    analyzer = Analysis()\n",
    "    file_path = '../data/Kilozott_Dummy_Data.csv'\n",
    "\n",
    "    try:\n",
    "        # read the data\n",
    "        df = pd.read_csv(file_path)\n",
    "        analysis = analyzer.analyze_telemetry(df)\n",
    "\n",
    "        # Print results\n",
    "        print(\"\\nTelemetry Analysis Results:\")\n",
    "        print(\"=\" * 50)\n",
    "        print(analysis)\n",
    "        print(\"=\" * 50)\n",
    "    \n",
    "    except Exception as e:\n",
    "        print(f\"Error: {e}\")\n",
    "\n",
    "if __name__ == \"__main__\":\n",
    "    test_analysis()"
   ]
  }
 ],
 "metadata": {
  "kernelspec": {
   "display_name": ".venv",
   "language": "python",
   "name": "python3"
  },
  "language_info": {
   "codemirror_mode": {
    "name": "ipython",
    "version": 3
   },
   "file_extension": ".py",
   "mimetype": "text/x-python",
   "name": "python",
   "nbconvert_exporter": "python",
   "pygments_lexer": "ipython3",
   "version": "3.11.6"
  }
 },
 "nbformat": 4,
 "nbformat_minor": 2
}
